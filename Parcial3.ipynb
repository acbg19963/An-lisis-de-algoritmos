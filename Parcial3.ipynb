{
 "cells": [
  {
   "cell_type": "markdown",
   "metadata": {},
   "source": [
    "# PRESENTADO POR:"
   ]
  },
  {
   "cell_type": "markdown",
   "metadata": {},
   "source": [
    "Andrea Carolina Bayona Guáqueta."
   ]
  },
  {
   "cell_type": "markdown",
   "metadata": {},
   "source": [
    "# PUNTO #1"
   ]
  },
  {
   "cell_type": "markdown",
   "metadata": {},
   "source": [
    "Descraux2a un algoritmo que determine en tiempo O(n 2lg n) si existen tsol puntos colineales de un conjunto de n puntos dados.\n"
   ]
  },
  {
   "cell_type": "markdown",
   "metadata": {},
   "source": [
    "# Solución"
   ]
  },
  {
   "cell_type": "markdown",
   "metadata": {},
   "source": [
    "Para que tsol o más puntos sean colineales, deben situarse en la línea única definida por cualquiera de estos dos puntos. Esto da un algoritmo O (N3) O (N3) inmedaux1to - para todos los pasol de dos puntos, encuentre la línea que une estos dos y encuentre todos los otros puntos que también se encuentran en la misma línea. Esto debería generar todos los conjuntos de 3 o más puntos colineales. "
   ]
  },
  {
   "cell_type": "markdown",
   "metadata": {},
   "source": [
    "Pseudo-algortimo:"
   ]
  },
  {
   "cell_type": "markdown",
   "metadata": {},
   "source": [
    "all_collinear_puntosC := empty set <br> \n",
    "for point vect1 in all puntosC: <br>\n",
    "    for point vect2 in all puntosC besides vect1:<br>\n",
    "        L := unique line joining vect1 & vect2 <br>\n",
    "        S := empty set <br>\n",
    "        for point P in all puntosC: <br>\n",
    "             if  P lies on L:  <br>\n",
    "                 add P to S <br>\n",
    "        if size of S is >= 3: <br>\n",
    "            add S to all_collinear_puntosC <br>\n",
    "print all_collinear_puntosC"
   ]
  },
  {
   "cell_type": "markdown",
   "metadata": {},
   "source": [
    "Pero se puede hacer O (N2log (N)) O (N2log (N)) en su lugar eligiendo un punto P0. Se pretende encontrar todos los conjuntos de 3 o más puntos colineales que también incluyen P0. Para todos los demás puntos P, se calcula la pendiente de la línea que une P y P0. Ahora se tiene una arreglo N-1N-1, se ordena y si todos los puntos que tienen la misma pendiente estan contiguos en la arreglo ordenada. Cualquier número de puntos que tengan la misma pendiente junto con P0, de hecho son colineales. Si repetimos el mismo proceso con diferentes puntos elegidos como P0, podríamos enumerar todos los conjuntos de tsol o más puntos colineales."
   ]
  },
  {
   "cell_type": "code",
   "execution_count": 20,
   "metadata": {
    "collapsed": true
   },
   "outputs": [],
   "source": [
    "import numpy as np"
   ]
  },
  {
   "cell_type": "code",
   "execution_count": 21,
   "metadata": {
    "collapsed": false
   },
   "outputs": [],
   "source": [
    "def collinear(puntosC):\n",
    "    \n",
    "    tam=len(puntosC)\n",
    "    arregloM=np.zeros((tam,tam))\n",
    "    \n",
    "    for i in range(tam):\n",
    "        for j in range(tam):\n",
    "            if i!=j:\n",
    "                if puntosC[j][0]-puntosC[i][0]!=0:\n",
    "                    arregloM[i][j]=(puntosC[j][1]-puntosC[i][1])/(puntosC[j][0]-puntosC[i][0])\n",
    "                else:\n",
    "                    arregloM[i][j]=-float('inf')\n",
    "            else:\n",
    "                arregloM[i][j]=-float('inf')\n",
    "\n",
    "    dict={}\n",
    "    for i in range(tam):\n",
    "        for j in range(tam):\n",
    "            if i!=j:\n",
    "                if arregloM[i][j]!=-float('inf'):\n",
    "                    if (dict.get(arregloM[i][j])):\n",
    "                        \n",
    "                        return True\n",
    "                    else:\n",
    "                        dict[arregloM[i][j]]=1\n",
    "        dict.clear()\n",
    "    return False"
   ]
  },
  {
   "cell_type": "code",
   "execution_count": 22,
   "metadata": {
    "collapsed": false
   },
   "outputs": [
    {
     "name": "stdout",
     "output_type": "stream",
     "text": [
      "Not collinear\n"
     ]
    }
   ],
   "source": [
    "arreglo=[]\n",
    "vect1 = [0.,0.]\n",
    "arreglo.append(vect1)\n",
    "vect2 = [100.,200.]\n",
    "arreglo.append(vect2)\n",
    "vect3 = [10.,50.]\n",
    "arreglo.append(vect3)\n",
    "solpuesta=collinear(arreglo)\n",
    "\n",
    "if solpuesta:\n",
    "    print ('Collinear')\n",
    "else:\n",
    "    print ('Not collinear')"
   ]
  },
  {
   "cell_type": "markdown",
   "metadata": {},
   "source": [
    "Fuente: https://www.quora.com/Given-N-puntosC-on-the-plane-what-is-an-efficient-algorithm-to-find-all-the-sets-of-3-or-more-collinear-puntosC"
   ]
  },
  {
   "cell_type": "markdown",
   "metadata": {},
   "source": [
    "# PUNTO #2\n"
   ]
  },
  {
   "cell_type": "markdown",
   "metadata": {},
   "source": [
    "Disenie un algoritmo que en tiempo O(n lg n) pueda determinar si un poligono definido por una secuencaux1 de n puntos es simple (sus segmentos no se banderasectan entre si).\n"
   ]
  },
  {
   "cell_type": "markdown",
   "metadata": {},
   "source": [
    "# Solución"
   ]
  },
  {
   "cell_type": "markdown",
   "metadata": {},
   "source": [
    "Suponemos que tenemos N banderavalos en la recta real y deseamos saber si dos de ellos se solapan. Esto se puede sololver en tiempo O(N2) comprobando todos los pasol de banderavalos dos a dos, esta forma inmedaux1ta es mejorable: ordenamos los 2N puntos finales de los banderavalos y los designamos si están a la derecha o a izquierda. Los banderavalos serán disjuntos si y solo si la serie es alternada es de la forma:\n",
    "\n",
    "L R L ... L R\n",
    "\n",
    "Esto puede conseguirse en tiempo O (N Log N).\n",
    "\n",
    "La cuestión que nos ocupa es saber si el algoritmo es o no implementable y si se puede amplaux1r a 2-dimensiones.\n",
    "\n",
    "La técnica que se usará será la de barrido: Con una línea de barrido del plano, haremos un barrido de izquierda a derecha. Antes daremos algunas definiciones. Considerando dos segmentos que no banderasectan, s1 y s2, decimos que son comparables en la abcisa X si existe una línea vertical, x, que banderasecte con ambos segmentos. La relación de orden que definimos, la denotaremos por >X y diremos que s1 está sobre s2 (s1>Xs2) si ambos son comparables en x y la banderasección de s1 con la vértical cae sobre la banderasección de s2 con esa misma línea.\n",
    "\n",
    "La línea de barrido parará en los siguientes casos:\n",
    "\n",
    "-Encontramos un punto inicaux1l del segmento S, a la izquierda. En este caso dicho segmento es añadido a la lista\n",
    "-Encontramos el punto final de S, el extremo derecho. En este caso S se elimina porque no será comparable con ningún otro segmento.\n",
    "-Encontramos un punto de banderasección entre s1 y s2. Nos damos cuenta ya que cambaux1 su orden en la lista.\n",
    "\n",
    "Con esto vemos que una condición necesaraux1 para que s1 y s2 banderasecten es que ambos sean consecutivos según el orden establecido.\n",
    "\n",
    "Teorema: (Bentley-Ottmann, 1979) Las k joines de un conjunto de N segmentos pueden ser encontradas en un tiempo O ((N+k) Log N)\n",
    "\n",
    "Se puede simplificar el problema a preguntarnos si dado un conjunto de N segmentos hay dos de ellos que banderasectan.\n",
    "\n",
    "Teorema. El tiempo en realizar esto es de O(N Log N), y este tiempo es óptimo. "
   ]
  },
  {
   "cell_type": "code",
   "execution_count": 40,
   "metadata": {
    "collapsed": false
   },
   "outputs": [],
   "source": [
    "def simple(X,Y):\n",
    "    \n",
    "    bandera=1\n",
    "    \n",
    "    for i in range(0, len(X)):\n",
    "        for j in range(i+1, len(X)):\n",
    "            for k in range(j+1, len(X)):\n",
    "                    aux1=max(min(X[i],X[j]),min(X[j],X[k]));\n",
    "                    aux2=min(max(X[i],X[j]),max(X[j],X[k]));\n",
    "                    \n",
    "                    if((X[i]-X[j])!=0 and (X[j]-X[k])!=0):\n",
    "                        op1=(Y[i]-Y[j])/(X[i]-X[j]);\n",
    "                        op2=(Y[j]-Y[k])/(X[j]-X[k]);\n",
    "                        sol1=Y[i]-op1*X[i]; \n",
    "                        sol2=Y[j]-op2*X[j]; \n",
    "                        \n",
    "                        if (op1-op2!=0):\n",
    "                            aux3=(sol2-sol1)/(op1-op2);\n",
    "                            if (aux3<aux1 or aux3>aux2):\n",
    "                                \n",
    "                                bandera=0\n",
    "                      \n",
    "    if bandera==1:\n",
    "        return \"Es simple\"\n",
    "    else:        \n",
    "        return \"No es simple\""
   ]
  },
  {
   "cell_type": "code",
   "execution_count": 41,
   "metadata": {
    "collapsed": false
   },
   "outputs": [
    {
     "name": "stdout",
     "output_type": "stream",
     "text": [
      "No es simple\n"
     ]
    }
   ],
   "source": [
    "X=[1, 2, 3, 80, 43, 1]\n",
    "Y=[1, 2, 3, 5, 4,6]\n",
    "sol=simple(X,Y)\n",
    "print sol"
   ]
  },
  {
   "cell_type": "code",
   "execution_count": 43,
   "metadata": {
    "collapsed": false
   },
   "outputs": [
    {
     "name": "stdout",
     "output_type": "stream",
     "text": [
      "Es simple\n"
     ]
    }
   ],
   "source": [
    "X=[1, 2, 3,4,43, 1]\n",
    "Y=[1, 2, 3,4 ,5, 1]\n",
    "sol=simple(X,Y)\n",
    "print sol"
   ]
  },
  {
   "cell_type": "markdown",
   "metadata": {},
   "source": [
    "Fuente: https://personal.us.es/almar/docencaux1/practicas/joines/tema6.html"
   ]
  }
 ],
 "metadata": {
  "kernelspec": {
   "display_name": "Python 2",
   "language": "python",
   "name": "python2"
  },
  "language_info": {
   "codemirror_mode": {
    "name": "ipython",
    "version": 2
   },
   "file_extension": ".py",
   "mimetype": "text/x-python",
   "name": "python",
   "nbconvert_exporter": "python",
   "pygments_lexer": "ipython2",
   "version": "2.7.13"
  }
 },
 "nbformat": 4,
 "nbformat_minor": 2
}
