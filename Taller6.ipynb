{
 "cells": [
  {
   "cell_type": "markdown",
   "metadata": {},
   "source": [
    "# Primer punto"
   ]
  },
  {
   "cell_type": "markdown",
   "metadata": {},
   "source": [
    "Implemente un método para crear grafos aleatorios de $n$ vertices, donde con probabilidad $\\psi \\in [0,1]$ definira si exite una arista entre cada par de vertices $(i,j)$. El peso $\\omega(i,j) \\in [minw, maxw]$ se asignará de manera aleatoria uniformemente en el intervalo $[minw, maxw]$"
   ]
  },
  {
   "cell_type": "markdown",
   "metadata": {},
   "source": [
    "# Solución "
   ]
  },
  {
   "cell_type": "code",
   "execution_count": 1,
   "metadata": {
    "collapsed": true
   },
   "outputs": [],
   "source": [
    "import random\n",
    "import numpy as np"
   ]
  },
  {
   "cell_type": "code",
   "execution_count": 2,
   "metadata": {
    "collapsed": true
   },
   "outputs": [],
   "source": [
    "def create(omega, n, minw, maxw):\n",
    "    G = {};\n",
    "    mat = np.ones((n , n) ) * float('inf')\n",
    "    for i in range(n):\n",
    "        x = {};\n",
    "        for j in range(n):\n",
    "            if i <> j:\n",
    "                a = random.randrange(0.0,100.0)\n",
    "                b = a/100.0\n",
    "                if(b > omega):\n",
    "                    peso = random.randrange(minw,maxw)\n",
    "                    x[str(j)] = peso;\n",
    "                    mat[i,j] = peso;\n",
    "            else:\n",
    "                mat[i,j] = 0;\n",
    "        G[str(i)] = x;\n",
    "    \n",
    "    return G, mat"
   ]
  },
  {
   "cell_type": "code",
   "execution_count": 3,
   "metadata": {
    "collapsed": false
   },
   "outputs": [
    {
     "data": {
      "text/plain": [
       "({'0': {'2': 5},\n",
       "  '1': {'0': 7, '3': 9},\n",
       "  '2': {'3': 6, '4': 8},\n",
       "  '3': {'1': 7, '2': 7, '4': 8},\n",
       "  '4': {'0': 7, '2': 7}},\n",
       " array([[  0.,  inf,   5.,  inf,  inf],\n",
       "        [  7.,   0.,  inf,   9.,  inf],\n",
       "        [ inf,  inf,   0.,   6.,   8.],\n",
       "        [ inf,   7.,   7.,   0.,   8.],\n",
       "        [  7.,  inf,   7.,  inf,   0.]]))"
      ]
     },
     "execution_count": 3,
     "metadata": {},
     "output_type": "execute_result"
    }
   ],
   "source": [
    "create ( 0.5 , 5 , 5 , 10 )"
   ]
  },
  {
   "cell_type": "markdown",
   "metadata": {},
   "source": [
    "# Segundo punto"
   ]
  },
  {
   "cell_type": "markdown",
   "metadata": {},
   "source": [
    "Adapte el algoritmo de Dijkstra para calcular todos los pares de rutas más cortas"
   ]
  },
  {
   "cell_type": "markdown",
   "metadata": {},
   "source": [
    "# Solución"
   ]
  },
  {
   "cell_type": "code",
   "execution_count": 10,
   "metadata": {
    "collapsed": true
   },
   "outputs": [],
   "source": [
    "from heapq import heappush, heappop"
   ]
  },
  {
   "cell_type": "code",
   "execution_count": 11,
   "metadata": {
    "collapsed": true
   },
   "outputs": [],
   "source": [
    "def updateheap(heap,d,v):\n",
    "    for i in range(len(heap)):\n",
    "        if heap[i][1] == v:\n",
    "            heap[i][0] = d\n",
    "            fix_minheap(heap,i)      \n",
    "            break    \n"
   ]
  },
  {
   "cell_type": "code",
   "execution_count": 12,
   "metadata": {
    "collapsed": true
   },
   "outputs": [],
   "source": [
    "def fix_minheap(heap, i):\n",
    "    if i == 0: return  \n",
    "    p = int(i/2)\n",
    "    if p >= 0 and heap[p][0] > heap[i][0]:\n",
    "        heap[i], heap[p] = heap[p], heap[i]\n",
    "        fix_minheap(heap,p)   \n",
    "            "
   ]
  },
  {
   "cell_type": "code",
   "execution_count": 13,
   "metadata": {
    "collapsed": true
   },
   "outputs": [],
   "source": [
    "def Dijkstra(G,start):\n",
    "        \n",
    "    D = {} \n",
    "    for v in G:\n",
    "        D[v] = float('inf')\n",
    "    D[start] = 0\n",
    "    \n",
    "    P = {} \n",
    "    \n",
    "    Q=[] \n",
    "    for v in G:\n",
    "        aux1 = []\n",
    "        aux1.append(D[v])\n",
    "        aux1.append(v)\n",
    "        heappush(Q,aux1)\n",
    "    \n",
    "    while Q:\n",
    "        u = heappop(Q)[1]\n",
    "        \n",
    "        for v in G[u]:\n",
    "            sum1 = D[u] + G[u][v]\n",
    "            if sum1 < D[v]:\n",
    "                P[v] = u\n",
    "                D[v] = sum1\n",
    "                updateheap(Q,D[v],v)\n",
    "    return D,P"
   ]
  },
  {
   "cell_type": "code",
   "execution_count": 14,
   "metadata": {
    "collapsed": true
   },
   "outputs": [],
   "source": [
    "def Djoin(G):\n",
    "    sol={}\n",
    "    for i in G:\n",
    "        sol[i]=Dijkstra(G,i)\n",
    "    return sol"
   ]
  },
  {
   "cell_type": "code",
   "execution_count": 15,
   "metadata": {
    "collapsed": false
   },
   "outputs": [
    {
     "name": "stdout",
     "output_type": "stream",
     "text": [
      "{'a': ({'a': 0, 'c': 10, 'b': 9, 'e': 10, 'd': 10}, {'c': 'b', 'b': 'a', 'e': 'c', 'd': 'a'}), 'c': ({'a': 27, 'c': 0, 'b': 36, 'e': 0, 'd': 37}, {'a': 'e', 'b': 'a', 'e': 'c', 'd': 'a'}), 'b': ({'a': 28, 'c': 1, 'b': 0, 'e': 1, 'd': 2}, {'a': 'e', 'c': 'b', 'e': 'c', 'd': 'b'}), 'e': ({'a': 27, 'c': 6, 'b': 36, 'e': 0, 'd': 37}, {'a': 'e', 'c': 'e', 'b': 'a', 'd': 'a'}), 'd': ({'a': 29, 'c': 4, 'b': 3, 'e': 2, 'd': 0}, {'a': 'e', 'c': 'b', 'b': 'd', 'e': 'd'})}\n"
     ]
    }
   ],
   "source": [
    "G = {'a': {'b':9, 'd':10},\n",
    "    'b': {'c':1, 'd':2},\n",
    "    'c': {'e':0},\n",
    "    'd':{'b':3,'c':15,'e':2},\n",
    "    'e':{'a':27,'c':6}}\n",
    "\n",
    "print(Djoin(G))"
   ]
  },
  {
   "cell_type": "markdown",
   "metadata": {},
   "source": [
    "# Tercer punto"
   ]
  },
  {
   "cell_type": "markdown",
   "metadata": {},
   "source": [
    "Adapte el algoritmo de Bellman-Ford para calcular todos los pares de rutas más cortas"
   ]
  },
  {
   "cell_type": "markdown",
   "metadata": {},
   "source": [
    "# Solución"
   ]
  },
  {
   "cell_type": "code",
   "execution_count": 16,
   "metadata": {
    "collapsed": true
   },
   "outputs": [],
   "source": [
    "def BellmanFord(G,start):\n",
    "    \n",
    "    D = {} \n",
    "    for v in G:\n",
    "        D[v] = float('inf')\n",
    "    D[start] = 0\n",
    "    \n",
    "    P = {} \n",
    "    \n",
    "    for i in range(len(G)-1):\n",
    "        for u in G:\n",
    "            for v in G[u]:   \n",
    "                sum = D[u] + G[u][v]\n",
    "                if sum < D[v]:\n",
    "                    P[v] = u\n",
    "                    D[v] = sum\n",
    "    \n",
    "    for u in G:\n",
    "        for v in G[u]:   \n",
    "            sum = D[u] + G[u][v]\n",
    "            if sum < D[v]: print(\"Negative cicle\",u,v)\n",
    "                \n",
    "    return D,P"
   ]
  },
  {
   "cell_type": "code",
   "execution_count": 17,
   "metadata": {
    "collapsed": true
   },
   "outputs": [],
   "source": [
    "def BellmanFordJoin(G):\n",
    "    T={};\n",
    "    for n in G:\n",
    "        D,P = BellmanFord(G, n);\n",
    "        T[n] = D;\n",
    "    return T;"
   ]
  },
  {
   "cell_type": "code",
   "execution_count": 18,
   "metadata": {
    "collapsed": false
   },
   "outputs": [
    {
     "name": "stdout",
     "output_type": "stream",
     "text": [
      "{'a': {'a': 0, 'c': 9, 'b': 8, 'e': 7, 'd': 5}, 'c': {'a': 11, 'c': 0, 'b': 19, 'e': 4, 'd': 16}, 'b': {'a': 11, 'c': 1, 'b': 0, 'e': 4, 'd': 2}, 'e': {'a': 7, 'c': 6, 'b': 15, 'e': 0, 'd': 12}, 'd': {'a': 9, 'c': 4, 'b': 3, 'e': 2, 'd': 0}}\n"
     ]
    }
   ],
   "source": [
    "G = {'a': {'b':10, 'd':5},\n",
    "    'b': {'c':1, 'd':2},\n",
    "    'c': {'e':4},\n",
    "    'd':{'b':3,'c':9,'e':2},\n",
    "    'e':{'a':7,'c':6}}\n",
    "\n",
    "print(BellmanFordJoin(G))"
   ]
  },
  {
   "cell_type": "markdown",
   "metadata": {},
   "source": [
    "# Cuarto Punto"
   ]
  },
  {
   "cell_type": "markdown",
   "metadata": {},
   "source": [
    "Implemente el algoritmo de BFS para calcular todos los pares de rutas más cortas (asumiendo que la longitud de la ruta esta dada por la cantidad de aristas que interviene más no por su peso)"
   ]
  },
  {
   "cell_type": "markdown",
   "metadata": {},
   "source": [
    "# Solución"
   ]
  },
  {
   "cell_type": "code",
   "execution_count": 19,
   "metadata": {
    "collapsed": true
   },
   "outputs": [],
   "source": [
    "import Queue"
   ]
  },
  {
   "cell_type": "code",
   "execution_count": 20,
   "metadata": {
    "collapsed": true
   },
   "outputs": [],
   "source": [
    "def BFS(G):\n",
    "    \n",
    "    sol={}\n",
    "    for m in G:\n",
    "        q = Queue.Queue()\n",
    "        check=[]\n",
    "        q.put(m)\n",
    "        while not q.empty():\n",
    "            v=q.get()\n",
    "            if v not in check:\n",
    "                check.append(v)\n",
    "                for i in G[v]:\n",
    "                    if i not in check:\n",
    "                        q.put(i)                \n",
    "        sol[m]=check\n",
    "        \n",
    "    return(sol)"
   ]
  },
  {
   "cell_type": "code",
   "execution_count": 21,
   "metadata": {
    "collapsed": false
   },
   "outputs": [
    {
     "name": "stdout",
     "output_type": "stream",
     "text": [
      "{'a': ['a', 'b', 'd', 'c', 'e'], 'c': ['c', 'e', 'a', 'b', 'd'], 'b': ['b', 'c', 'd', 'e', 'a'], 'e': ['e', 'a', 'c', 'b', 'd'], 'd': ['d', 'c', 'b', 'e', 'a']}\n"
     ]
    }
   ],
   "source": [
    "G = {'a': {'b':10, 'd':5},\n",
    "    'b': {'c':1, 'd':2},\n",
    "    'c': {'e':4},\n",
    "    'd':{'b':3,'c':9,'e':2},\n",
    "    'e':{'a':7,'c':6}}\n",
    "print(BFS(G))"
   ]
  }
 ],
 "metadata": {
  "kernelspec": {
   "display_name": "Python 2",
   "language": "python",
   "name": "python2"
  },
  "language_info": {
   "codemirror_mode": {
    "name": "ipython",
    "version": 2
   },
   "file_extension": ".py",
   "mimetype": "text/x-python",
   "name": "python",
   "nbconvert_exporter": "python",
   "pygments_lexer": "ipython2",
   "version": "2.7.13"
  }
 },
 "nbformat": 4,
 "nbformat_minor": 2
}
