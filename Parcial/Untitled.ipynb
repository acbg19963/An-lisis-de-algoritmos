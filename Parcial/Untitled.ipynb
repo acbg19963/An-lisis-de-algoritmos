{
 "cells": [
  {
   "cell_type": "markdown",
   "metadata": {},
   "source": [
    "# Punto #1"
   ]
  },
  {
   "cell_type": "markdown",
   "metadata": {},
   "source": [
    "Operación                z     Costo Total\n",
    "Inicializacion         algorithm 0 0\n",
    "derecha                algorithm 0 0\n",
    "derecha                algorithm 0 0\n",
    "reemplazar (por n)     angorithm 4 4\n",
    "reemplazar (por a)     angorithm 4 8\n",
    "reemplazar (por l)     analrithm 4 12\n",
    "Reemplazar (por y)     analyithm 4 16\n",
    "Insertar s             analysithm 3 19\n",
    "derecha                analysithm 0 19\n",
    "Insertar s             analysisthm 3 22\n",
    "eliminar               analysishm 2 24\n",
    "eliminar               analysism 2 26\n",
    "eliminar               analysis 2 28"
   ]
  },
  {
   "cell_type": "markdown",
   "metadata": {},
   "source": [
    "# Punto #2"
   ]
  },
  {
   "cell_type": "markdown",
   "metadata": {},
   "source": [
    "Argumentamos que hay una secuencia S que transforma x a y con costo d (x, y) sin usar ninguna operación \"izquierda\" por contradicción. Supongamos que ninguna secuencia S existe y  que transforma x a y con costo d (x, y) utilizando operaciones de \"izquierda\". Consideremos los caracteres insertados por las operaciones en S Si ae inserta y luego se suprime más tarde, ambas operaciones pueden para producir una secuencia S  con el mismo resultado a menor coste. Si A se inserta y después se sustituye por un carácter b, entonces la operación de inserción puede ser cambiada al inserto b y la operación de reemplazo puede ser removida para producir una secuencia S que produce el mismo resultado a menor costo. Si un carácter es reemplazado por un carácter a y luego reemplazalo de nuevo por un carácter b, ambas operaciones pueden ser reemplazadas por \"replace\n",
    "segundo\". Esto significa que todos los caracteres insertados y reemplazados nunca se cambian después de realizar la inserción o sustitución. Observe que después de eliminar estas operaciones  que introducen dependencias, cualquier secuencia de insertar, eliminar y reemplazar las operaciones puede realizarse sin afectar el resultado de la transformación."
   ]
  },
  {
   "cell_type": "markdown",
   "metadata": {},
   "source": [
    "# Punto # 3"
   ]
  },
  {
   "cell_type": "markdown",
   "metadata": {},
   "source": [
    "La solución óptima a d (x, zi) contiene soluciones óptimas a subproblemas D (x, zi - 1). Probamos esta afirmación por contradicción usando cortar y pegar. Suponiendo que C (Si - 1) ∪ z = d (x, zi - 1). Hay dos casos, C (Si-1) <d (x, zi-1) o C (Si-1)> d (x, zi-1). Si C <d (x, zi-1), entonces podemos transformar x a zi-1 usando las operaciones Si-1 con menor costo que d (x, zi-1), lo cual es una contradicción. Si C (Si-1)> d (x, zi-1), entonces podríamos reemplazar Si-1 por la secuencia de operaciones S que transforma x a i-1 con coste d (x, zi-1). Entonces la secuencia de operaciones S ← oi transforma x a y\n",
    "Con costo C (S ← oi).\n",
    "\n",
    "C (S ← oi) = d (x, zi-1) + C (oi)\n",
    "<C (Si - 1) + C (oi)\n",
    "= C (Si)\n",
    "= D (x, zi)\n",
    "\n",
    "Esto significa que d (x, zi) no es la distancia de edición entre x y zi, lo cual es una contradicción. Por lo tanto, el teorema es correcto y el problema de distancia de edición presenta una subestructura óptima."
   ]
  },
  {
   "cell_type": "markdown",
   "metadata": {},
   "source": [
    "# Punto #4"
   ]
  },
  {
   "cell_type": "markdown",
   "metadata": {},
   "source": [
    "El valor (recurrencia) de $c(i,j) =  al minimo de\n",
    " \n",
    " \n",
    " \n",
    "costo(eliminar x[i]) + c(i + 1, j) si i &lt; |x|\n",
    " \n",
    "costo(insertar y[j]) + c(i, j + 1) si j &lt; |y|\n",
    " \n",
    "costo(reemplazar x[i] -> y[j]) + c(i + 1, j + 1) si i<|x| & j <|y|\n",
    " \n",
    "Caso Base: c(|x|,|y|) = 0\n",
    " \n",
    "Cada subproblema toma O(1) en resolver\n"
   ]
  },
  {
   "cell_type": "markdown",
   "metadata": {},
   "source": [
    "# Punto #5\n"
   ]
  },
  {
   "cell_type": "markdown",
   "metadata": {},
   "source": [
    "Se trata de un algoritmo de tipo bottom-up, común en programación dinámica. Se apoya en el uso de una matriz (n + 1) × (m + 1), donde n y m son las longitudes de las cadenas. Para una función LevenshteinDistance que toma dos cadenas, str1 de longitud lenStr1, y str2 de longitud lenStr2, y calcula la distancia Levenshtein."
   ]
  },
  {
   "cell_type": "markdown",
   "metadata": {},
   "source": [
    "# Punto #6\n"
   ]
  },
  {
   "cell_type": "code",
   "execution_count": 2,
   "metadata": {
    "collapsed": true
   },
   "outputs": [],
   "source": [
    " def normal_leven(str1, str2):\n",
    "   len_str1 = len(str1) + 1\n",
    "   len_str2 = len(str2) + 1\n",
    "   #create matrix\n",
    "   matrix = [0 for n in range(len_str1 * len_str2)]\n",
    "   #init x axis\n",
    "   for i in range(len_str1):\n",
    "     matrix[i] = i\n",
    "   #init y axis\n",
    "   for j in range(0, len(matrix), len_str1):\n",
    "     if j % len_str1 == 0:\n",
    "       matrix[j] = j // len_str1\n",
    "\n",
    "   for i in range(1, len_str1):\n",
    "     for j in range(1, len_str2):\n",
    "       if str1[i-1] == str2[j-1]:\n",
    "         cost = 0\n",
    "       else:\n",
    "         cost = 1\n",
    "       matrix[j*len_str1+i] = min(matrix[(j-1)*len_str1+i]+1,\n",
    "                     matrix[j*len_str1+(i-1)]+1,\n",
    "                     matrix[(j-1)*len_str1+(i-1)] + cost)\n",
    "\n",
    "   return matrix[-1]\n"
   ]
  },
  {
   "cell_type": "code",
   "execution_count": 3,
   "metadata": {
    "collapsed": false
   },
   "outputs": [
    {
     "data": {
      "text/plain": [
       "16"
      ]
     },
     "execution_count": 3,
     "metadata": {},
     "output_type": "execute_result"
    }
   ],
   "source": [
    "normal_leven(\"software engineering\", \"computer science\")"
   ]
  },
  {
   "cell_type": "markdown",
   "metadata": {},
   "source": [
    "# Punto #7"
   ]
  },
  {
   "cell_type": "code",
   "execution_count": 4,
   "metadata": {
    "collapsed": true
   },
   "outputs": [],
   "source": [
    "def normal_leven(str1, str2):\n",
    "   len_str1 = len(str1) + 1\n",
    "   len_str2 = len(str2) + 1\n",
    "   #create matrix\n",
    "   matrix = [0 for n in range(len_str1 * len_str2)]\n",
    "   #init x axis\n",
    "   for i in range(len_str1):\n",
    "     matrix[i] = i\n",
    "   #init y axis\n",
    "   for j in range(0, len(matrix), len_str1):\n",
    "     if j % len_str1 == 0:\n",
    "       matrix[j] = j // len_str1\n",
    "\n",
    "   for i in range(1, len_str1):\n",
    "     for j in range(1, len_str2):\n",
    "       if str1[i-1] == str2[j-1]:\n",
    "         cost = 0\n",
    "       else:\n",
    "         cost = 1\n",
    "       matrix[j*len_str1+i] = min(matrix[(j-1)*len_str1+i]+1,\n",
    "                     matrix[j*len_str1+(i-1)]+1,\n",
    "                     matrix[(j-1)*len_str1+(i-1)] + cost)\n",
    "\n",
    "   return matrix[-1]"
   ]
  },
  {
   "cell_type": "code",
   "execution_count": 7,
   "metadata": {
    "collapsed": false
   },
   "outputs": [
    {
     "data": {
      "text/plain": [
       "535"
      ]
     },
     "execution_count": 7,
     "metadata": {},
     "output_type": "execute_result"
    }
   ],
   "source": [
    "normal_leven(\"In fairy-tales, witches always wear silly black hats and black cloaks, and they ride on broomsticks.  But this is not a fairy-tale. This is about Real Witches.  The most important thing you should know about Real Witches is this.  Listen very carefully.  Never forget what is coming next.  Real Witches dress in ordinary clothes and look very much like ordinary women. They live in ordinary houses and work in Ordinary Jobs.  That is why they are so hard to catch.  A Real Witch hates children with a red-hot sizzling hatred that is more sizzling and red-hot than any hatred you could possibly imagine.\",\"Round about the caldron go; In the poison'd entrails throw.  Toad, that under cold stone, Days and nights has thirty-one; Swelter'd venom sleeping got, Boil thou first i' the charmed pot!  Double, double toil and trouble; Fire burn, and cauldron bubble.  Fillet of a fenny snake, In the caldron boil and bake; Eye of newt, and toe of frog, Wool of bat, and tongue of dog; Adder's fork, and blind-worm's sting, Lizard's leg, and howlet's wing; For a charm of pow'rful trouble, Like a hell-broth boil and bubble.  Double, double toil and trouble; Fire burn, and cauldron bubble.  Scale of dragon, tooth of wolf, Witches' mummy, maw and gulf Of the ravin'd salt-sea shark; Root of hemlock digg'd i' the dark\")"
   ]
  },
  {
   "cell_type": "code",
   "execution_count": 8,
   "metadata": {
    "collapsed": false
   },
   "outputs": [
    {
     "data": {
      "text/plain": [
       "555"
      ]
     },
     "execution_count": 8,
     "metadata": {},
     "output_type": "execute_result"
    }
   ],
   "source": [
    "normal_leven(\"Macavity, Macavity, there's no one like Macavity, He's broken every  human law, he breaks the law of gravity.  His powers of levitation  would make a fakir stare, And when you reach the scene of crime -  Macavity's not there!  You may seek him in the basement, you may look  up in the air - But I tell you once and once again, Macavity's not there!  Macavity's a ginger cat, he's very tall and thin; You would know him if you saw him, for his eyes are sunken in.  His brow is deeply lined with thought, his head is highly domed; His coat is dusty from neglect, his whiskers are uncombed.  He sways his head from side to side, with movements like a snake; And when you think he's half asleep, he's always wide awake\", \"`Please would you tell me,' said Alice, a little timidly, for she was not quite sure whether it was good manners for her to speak first, `why your cat grins like that?' `It's a Cheshire cat,' said the Duchess, `and that's why. Pig!'  She said the last word with such sudden violence that Alice quite jumped; but she saw in another moment that it was addressed to the baby, and not to her, so she took courage, and went on again:  `I didn't know that Cheshire cats always grinned; in fact, I didn't know that cats could grin.'  `They all can,' said the Duchess; `and most of 'em do.'  `I don't know of any that do,' Alice said very politely, feeling quite pleased to have got into a conversation.\")"
   ]
  },
  {
   "cell_type": "code",
   "execution_count": 9,
   "metadata": {
    "collapsed": false
   },
   "outputs": [
    {
     "data": {
      "text/plain": [
       "552"
      ]
     },
     "execution_count": 9,
     "metadata": {},
     "output_type": "execute_result"
    }
   ],
   "source": [
    "normal_leven(\"Old MacDonald had a farm, Ee i ee i o.  And on his farm he had some chicks, Ee i ee i o.  With a cluck-cluck here and a cluck-cluck there.  Here a cluck, there a cluck everywhere a cluck-cluck. Old MacDonald had a farm, Ee i ee i o.  Old MacDonald had a farm, Ee i ee i o.  And on his farm he had some cows, Ee i ee i o.  With a moo-moo here and a moo-moo there.  Here a moo, there a moo everywhere a moo-moo.  Old MacDonald had a farm, Ee i ee i o\", \"At one end of the big barn, on a sort of raised platform, Major was already ensconced on his bed of straw, under a lantern which hung from a beam. He was twelve years old and had lately grown rather stout, but he was still a majestic-looking pig, with a wise and benevolent appearance in spite of the fact that his tushes had never been cut.  Before long the other animals began to arrive and make themselves comfortable after their different fashions.  First came the three dogs, Bluebell, Jessie, and Pincher, and then the pigs, who settled down in the straw immediately in front of the platform.  The hens perched themselves on the window-sills, the pigeons fluttered up to the rafters, the sheep and cows lay down behind the pigs and began to chew the cud.\")"
   ]
  },
  {
   "cell_type": "code",
   "execution_count": null,
   "metadata": {
    "collapsed": true
   },
   "outputs": [],
   "source": []
  }
 ],
 "metadata": {
  "kernelspec": {
   "display_name": "Python [conda root]",
   "language": "python",
   "name": "conda-root-py"
  },
  "language_info": {
   "codemirror_mode": {
    "name": "ipython",
    "version": 2
   },
   "file_extension": ".py",
   "mimetype": "text/x-python",
   "name": "python",
   "nbconvert_exporter": "python",
   "pygments_lexer": "ipython2",
   "version": "2.7.12"
  }
 },
 "nbformat": 4,
 "nbformat_minor": 1
}
