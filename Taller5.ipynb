{
 "cells": [
  {
   "cell_type": "markdown",
   "metadata": {},
   "source": [
    "# Taller 5"
   ]
  },
  {
   "cell_type": "markdown",
   "metadata": {},
   "source": [
    "# Punto 1"
   ]
  },
  {
   "cell_type": "markdown",
   "metadata": {},
   "source": [
    "Implemente el algoritmo de búsqueda en profundidad (DFS) y pruebelo para recorrer el grafo del laberinto de pacman."
   ]
  },
  {
   "cell_type": "code",
   "execution_count": 20,
   "metadata": {
    "collapsed": true
   },
   "outputs": [],
   "source": [
    "def dfs(graph, start):\n",
    "    visited, stack = set(), [start]\n",
    "    while stack:\n",
    "        vertex = stack.pop()\n",
    "        if vertex not in visited:\n",
    "            visited.add(vertex)\n",
    "            stack.extend(graph[vertex] - visited)\n",
    "    return visited"
   ]
  },
  {
   "cell_type": "code",
   "execution_count": 21,
   "metadata": {
    "collapsed": false
   },
   "outputs": [
    {
     "data": {
      "text/plain": [
       "{'A', 'B', 'C', 'D', 'E', 'F'}"
      ]
     },
     "execution_count": 21,
     "metadata": {},
     "output_type": "execute_result"
    }
   ],
   "source": [
    "graph = {'A': set(['B', 'C']),\n",
    "         'B': set(['A', 'D', 'E']),\n",
    "         'C': set(['A', 'F']),\n",
    "         'D': set(['B']),\n",
    "         'E': set(['B', 'F']),\n",
    "         'F': set(['C', 'E'])}\n",
    "\n",
    "dfs(graph, 'A')"
   ]
  },
  {
   "cell_type": "markdown",
   "metadata": {},
   "source": [
    "# Punto 2"
   ]
  },
  {
   "cell_type": "markdown",
   "metadata": {},
   "source": [
    "Realice el análisis del tiempo de ejecución del algoritmo DFS, justifiquelo."
   ]
  },
  {
   "cell_type": "code",
   "execution_count": 22,
   "metadata": {
    "collapsed": true
   },
   "outputs": [],
   "source": [
    "import math\n",
    "import numpy as np\n",
    "import pylab as pl\n",
    "import time \n",
    "import random \n",
    "import pylab  \n",
    "import math\n",
    "import numpy as np\n"
   ]
  },
  {
   "cell_type": "code",
   "execution_count": 23,
   "metadata": {
    "collapsed": true
   },
   "outputs": [],
   "source": [
    "graph = {'A': set(['B', 'C']),\n",
    "         'B': set(['A', 'D', 'E']),\n",
    "         'C': set(['A', 'F']),\n",
    "         'D': set(['B']),\n",
    "         'E': set(['B', 'F']),\n",
    "         'F': set(['C', 'E'])}"
   ]
  },
  {
   "cell_type": "code",
   "execution_count": 24,
   "metadata": {
    "collapsed": true
   },
   "outputs": [],
   "source": [
    "def exper_analysis_time(n):\n",
    "    results = []\n",
    "    for i in range(n):\n",
    "        l = list(range(i))\n",
    "        random.shuffle(l)\n",
    "        tic = time.clock()\n",
    "        dfs(graph, 'A') \n",
    "        toc = time.clock()\n",
    "        results.append((toc-tic))\n",
    "    return results"
   ]
  },
  {
   "cell_type": "code",
   "execution_count": 25,
   "metadata": {
    "collapsed": false
   },
   "outputs": [
    {
     "name": "stdout",
     "output_type": "stream",
     "text": [
      "[2.2807253628798208e-05, 1.3114170826611371e-05, 1.3114170826611371e-05, 1.1403626842820813e-05, 1.1403626842820813e-05, 1.1403626842820813e-05, 1.1403626785977394e-05, 1.1403626785977394e-05, 1.1403626785977394e-05, 1.1973808170750999e-05]\n"
     ]
    },
    {
     "data": {
      "image/png": "[encoded data removed]",
      "text/plain": [
       "<matplotlib.figure.Figure at 0x7477cf8>"
      ]
     },
     "metadata": {},
     "output_type": "display_data"
    }
   ],
   "source": [
    "print (exper_analysis_time(10))\n",
    "\n",
    "pylab.clf()\n",
    "x = np.arange(100)\n",
    "y = np.array(exper_analysis_time(100))*100000\n",
    "\n",
    "pylab.plot(x, y, 'p--')\n",
    "pylab.show()"
   ]
  },
  {
   "cell_type": "markdown",
   "metadata": {},
   "source": [
    "# Punto 3"
   ]
  },
  {
   "cell_type": "markdown",
   "metadata": {},
   "source": [
    "Diseñe e implemente un algoritmo que identifique ciclos en un grafo."
   ]
  },
  {
   "cell_type": "code",
   "execution_count": 28,
   "metadata": {
    "collapsed": true
   },
   "outputs": [],
   "source": [
    "global cont"
   ]
  },
  {
   "cell_type": "code",
   "execution_count": 29,
   "metadata": {
    "collapsed": false
   },
   "outputs": [],
   "source": [
    "def dfs_rec(adjLists, visited, v,lista):\n",
    "    global cont\n",
    "    visited[v] = True\n",
    "    for w in adjLists[v]:\n",
    "        if(not visited[w]):\n",
    "            lista.append(v)\n",
    "            dfs_rec(adjLists, visited, w,lista)\n",
    "        else:\n",
    "            cont+=1\n"
   ]
  },
  {
   "cell_type": "code",
   "execution_count": 30,
   "metadata": {
    "collapsed": false
   },
   "outputs": [],
   "source": [
    "def dfs_ciclo(adjLists):\n",
    "    global cont\n",
    "    cont=0\n",
    "    visited = []\n",
    "    n = len(adjLists)\n",
    "\n",
    "        \n",
    "    for i in range(n):\n",
    "        for j in range(n):\n",
    "            visited.append(False)\n",
    "\n",
    "        lista=[]\n",
    "        dfs_rec(adjLists, visited, i,lista)\n",
    "        visited = []\n",
    "    if cont>0:\n",
    "        print ('El grafo tiene ciclos')\n",
    "    else:\n",
    "        print ('El grafo no tiene ciclos')"
   ]
  },
  {
   "cell_type": "code",
   "execution_count": 31,
   "metadata": {
    "collapsed": false
   },
   "outputs": [
    {
     "name": "stdout",
     "output_type": "stream",
     "text": [
      "El grafo tiene ciclos\n",
      "El grafo no tiene ciclos\n"
     ]
    }
   ],
   "source": [
    "graph_example_1 = { 0 : [3,5],\n",
    "                    1 : [2,4,5],\n",
    "                    2 : [1,3,5],\n",
    "                    3 : [2,0],\n",
    "                    4 : [1,5],\n",
    "                    5 : [1,2,4,0]}\n",
    "\n",
    "graph_example_2 = { 0 : [1],\n",
    "                    1 : [2],\n",
    "                    2 : [3],\n",
    "                    3 : []}\n",
    "\n",
    "dfs_ciclo(graph_example_1)\n",
    "dfs_ciclo(graph_example_2)"
   ]
  },
  {
   "cell_type": "markdown",
   "metadata": {},
   "source": [
    "# Punto 4"
   ]
  },
  {
   "cell_type": "markdown",
   "metadata": {},
   "source": [
    "Diseñe e implemente un algoritmo que verifique si un grafo es bipartito o no."
   ]
  },
  {
   "cell_type": "code",
   "execution_count": 43,
   "metadata": {
    "collapsed": false
   },
   "outputs": [],
   "source": [
    "def bipartito(adjLists,inicio):\n",
    "    n = len(adjLists)\n",
    "    color=[]\n",
    "    visited = []\n",
    "    cont= \"Es bipartito\"\n",
    "    for k in range(n):\n",
    "        visited.append(False)\n",
    "        color.append(0)\n",
    "    color[0]=1\n",
    "    sol=True\n",
    "    for i in range(n):\n",
    "        for j in adjLists[i]:\n",
    "            if color[j]==0:\n",
    "                if color[i]==1:\n",
    "                    color[j]=2\n",
    "                else:\n",
    "                    color[j]=1\n",
    "            else:\n",
    "                if color[j]==color[i]:\n",
    "                    sol=False\n",
    "                    cont= \"No es bipartito\"\n",
    "            \n",
    "    print (cont)"
   ]
  },
  {
   "cell_type": "code",
   "execution_count": 44,
   "metadata": {
    "collapsed": false
   },
   "outputs": [
    {
     "name": "stdout",
     "output_type": "stream",
     "text": [
      "No es bipartito\n",
      "Es bipartito\n"
     ]
    }
   ],
   "source": [
    "graph_example_1 = { 0 : [3,5],\n",
    "                    1 : [2,4,5],\n",
    "                    2 : [1,3,5],\n",
    "                    3 : [2,0],\n",
    "                    4 : [1,5],\n",
    "                    5 : [1,2,4,0]}\n",
    "graph_example_2 = { 0 : [3,5],\n",
    "                    1 : [2,4],\n",
    "                    2 : [1,3,5],\n",
    "                    3 : [2,0],\n",
    "                    4 : [1,5],\n",
    "                    5 : [2,4,0]}\n",
    "\n",
    "bipartito(graph_example_1,0)\n",
    "bipartito(graph_example_2,0)"
   ]
  },
  {
   "cell_type": "markdown",
   "metadata": {},
   "source": [
    "# Punto 5"
   ]
  },
  {
   "cell_type": "markdown",
   "metadata": {},
   "source": [
    "Modifique el algoritmo de dijkstra para solucionar el problema de la ruta más corta en un grafo sin pesos, i.e. partiendo de un vertice inicial encontrar la ruta y su distancia a todos los demás vertices haciendo la menor cantidad de saltos (vertices en la ruta)"
   ]
  },
  {
   "cell_type": "code",
   "execution_count": 45,
   "metadata": {
    "collapsed": false
   },
   "outputs": [],
   "source": [
    "def backtrac(parent, start, end):\n",
    "    path = [end]\n",
    "    while path[-1] != start:\n",
    "        path.append(parent[path[-1]])\n",
    "    path.reverse()\n",
    "    return path"
   ]
  },
  {
   "cell_type": "code",
   "execution_count": 46,
   "metadata": {
    "collapsed": true
   },
   "outputs": [],
   "source": [
    "def Dijkstra(graph, source, target):\n",
    "    queue = []\n",
    "    visited = {}\n",
    "    parent = {}\n",
    "    \n",
    "    for node in range(len(graph)):\n",
    "        visited[node] = False\n",
    "        parent[node] = None\n",
    "    \n",
    "    queue.append(source)\n",
    "    while len(queue) != 0:\n",
    "        current = queue.pop(0)\n",
    "        if current == target:\n",
    "            return backtrac(parent, source, target)\n",
    "            break\n",
    "        for neighbor in graph[current]:\n",
    "            if(neighbor in visited.keys()):\n",
    "                if visited[neighbor] == False:\n",
    "                    visited[neighbor] = True\n",
    "                    parent[neighbor] = current\n",
    "                    queue.append(neighbor)"
   ]
  },
  {
   "cell_type": "code",
   "execution_count": 47,
   "metadata": {
    "collapsed": true
   },
   "outputs": [],
   "source": [
    "def shortestPath(G,inicio):\n",
    "    lista=[]\n",
    "    v=inicio;\n",
    "    for d in G:\n",
    "        if(v!=d):\n",
    "            lista.append(Dijkstra(G,v,d));\n",
    "    return lista;"
   ]
  },
  {
   "cell_type": "code",
   "execution_count": 48,
   "metadata": {
    "collapsed": false
   },
   "outputs": [
    {
     "data": {
      "text/plain": [
       "[[6, 1], [6, 1, 2], [6, 3], [6, 3, 4], [6, 5]]"
      ]
     },
     "execution_count": 48,
     "metadata": {},
     "output_type": "execute_result"
    }
   ],
   "source": [
    "grafo = {1: set([3,2,6]),\n",
    "         2: set([3,1,4]),\n",
    "         3: set([1,2,6,4]),\n",
    "         4: set([2,3,5]),\n",
    "         5: set([4,6]),\n",
    "         6: set([1,3,5])}\n",
    "\n",
    "\n",
    "shortestPath(grafo,6)"
   ]
  },
  {
   "cell_type": "code",
   "execution_count": null,
   "metadata": {
    "collapsed": true
   },
   "outputs": [],
   "source": []
  }
 ],
 "metadata": {
  "anaconda-cloud": {},
  "kernelspec": {
   "display_name": "Python 2",
   "language": "python",
   "name": "python2"
  },
  "language_info": {
   "codemirror_mode": {
    "name": "ipython",
    "version": 2
   },
   "file_extension": ".py",
   "mimetype": "text/x-python",
   "name": "python",
   "nbconvert_exporter": "python",
   "pygments_lexer": "ipython2",
   "version": "2.7.13"
  }
 },
 "nbformat": 4,
 "nbformat_minor": 1
}
