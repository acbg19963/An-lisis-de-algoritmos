{
 "cells": [
  {
   "cell_type": "markdown",
   "metadata": {},
   "source": [
    "# Algoritmo Trivial"
   ]
  },
  {
   "cell_type": "code",
   "execution_count": 20,
   "metadata": {
    "collapsed": true
   },
   "outputs": [],
   "source": [
    "import math\n",
    "import numpy as np\n",
    "import pylab as pl\n",
    "%matplotlib inline"
   ]
  },
  {
   "cell_type": "code",
   "execution_count": 21,
   "metadata": {
    "collapsed": true
   },
   "outputs": [],
   "source": [
    "def algoritmoTrivial(list1):\n",
    "    maxim = 0\n",
    "    for i in range(len(list1)):\n",
    "        for j in range(i, len(list1)):\n",
    "            plus = 0\n",
    "            for k in range(i,j):\n",
    "                plus = plus + list1[k]\n",
    "                if (plus > maxim):\n",
    "                    maxim = plus\n",
    "    return maxim\n",
    "\n"
   ]
  },
  {
   "cell_type": "code",
   "execution_count": 22,
   "metadata": {
    "collapsed": false
   },
   "outputs": [
    {
     "name": "stdout",
     "output_type": "stream",
     "text": [
      "[-2, 11, -4, 13, -5, -2]\n",
      "20\n"
     ]
    }
   ],
   "source": [
    "arreglo = [-2, 11, -4, 13, -5, -2]\n",
    "print (arreglo)\n",
    "maxn =  algoritmoTrivial(arreglo)\n",
    "print (maxn)"
   ]
  },
  {
   "cell_type": "markdown",
   "metadata": {},
   "source": [
    "# Divide & Conquer"
   ]
  },
  {
   "cell_type": "code",
   "execution_count": 39,
   "metadata": {
    "collapsed": false
   },
   "outputs": [],
   "source": [
    "def  numbf (a,b,c):\n",
    "    return max(max(a,b),c)"
   ]
  },
  {
   "cell_type": "code",
   "execution_count": 46,
   "metadata": {
    "collapsed": true
   },
   "outputs": [],
   "source": [
    "def MaxArray(a, l, m, h):\n",
    "    aux1 = -999999\n",
    "    aux2 = -999999\n",
    "    sum1 = 0\n",
    "    for i in range(m, l, -1):\n",
    "        sum1 = sum1 + a[i]\n",
    "        if sum1 > aux1:\n",
    "            aux1 = sum1\n",
    "\n",
    "    sum1 = 0   \n",
    "    for i in range(m + 1, h, 1):\n",
    "        sum1 = sum1 + a[i]\n",
    "        if sum1 > aux2:\n",
    "            aux2 = sum1\n",
    "         \n",
    "    return aux1 + aux2"
   ]
  },
  {
   "cell_type": "code",
   "execution_count": 50,
   "metadata": {
    "collapsed": true
   },
   "outputs": [],
   "source": [
    "def MaxSubArray(a,l,h):\n",
    "    if l == h:\n",
    "        return a[l]\n",
    "    m= ((l+h)/2)\n",
    "    return numbf(MaxSubArray(a,l,m),MaxSubArray(a, m + 1, h),MaxArray(a, l, m, h))\n",
    "      "
   ]
  },
  {
   "cell_type": "code",
   "execution_count": 51,
   "metadata": {
    "collapsed": false
   },
   "outputs": [
    {
     "name": "stdout",
     "output_type": "stream",
     "text": [
      "[-2, 11, -4, 13, -5, -2]\n",
      "20\n"
     ]
    }
   ],
   "source": [
    "arreglo = [-2, 11, -4, 13, -5, -2]\n",
    "print (arreglo)\n",
    "final = MaxSubArray(arreglo, 0, len(arreglo)-1)\n",
    "print (final)\n"
   ]
  },
  {
   "cell_type": "markdown",
   "metadata": {},
   "source": [
    "# Algoritmo Bentley"
   ]
  },
  {
   "cell_type": "code",
   "execution_count": 87,
   "metadata": {
    "collapsed": false
   },
   "outputs": [],
   "source": [
    "def algortimoBentley(lista, l, h):\n",
    "    der = 0\n",
    "    izq = 0\n",
    "    \n",
    "    if(l > h):\n",
    "        return 0\n",
    "    \n",
    "    if(l == h):\n",
    "        return max(0, lista[l])\n",
    "    \n",
    "    m = (l + h)/2\n",
    "    \n",
    "    aux = max (algortimoBentley(lista, l, m),algortimoBentley(lista, m+1, h))\n",
    "      \n",
    "    suma1 = 0\n",
    "    \n",
    "    for i in range(m, l, -1):\n",
    "        suma1 = suma1 + lista[i]\n",
    "        izq = max(izq, suma1)\n",
    "        \n",
    "    suma1 = 0\n",
    "    \n",
    "    for i in range(m+1, h):\n",
    "        suma1 = suma1 + lista[i]\n",
    "        der = max(der, suma1)\n",
    "        \n",
    "    return max(der + izq, aux)"
   ]
  },
  {
   "cell_type": "code",
   "execution_count": 88,
   "metadata": {
    "collapsed": false
   },
   "outputs": [
    {
     "name": "stdout",
     "output_type": "stream",
     "text": [
      "[-2, 11, -4, 13, -5, -2]\n",
      "20\n"
     ]
    }
   ],
   "source": [
    "arreglo = [-2, 11, -4, 13, -5, -2]\n",
    "print (arreglo)\n",
    "final = algortimoBentley(arreglo, 0, len(arreglo)-1)\n",
    "print (final)"
   ]
  },
  {
   "cell_type": "code",
   "execution_count": null,
   "metadata": {
    "collapsed": true
   },
   "outputs": [],
   "source": []
  }
 ],
 "metadata": {
  "kernelspec": {
   "display_name": "Python 2",
   "language": "python",
   "name": "python2"
  },
  "language_info": {
   "codemirror_mode": {
    "name": "ipython",
    "version": 2
   },
   "file_extension": ".py",
   "mimetype": "text/x-python",
   "name": "python",
   "nbconvert_exporter": "python",
   "pygments_lexer": "ipython2",
   "version": "2.7.13"
  }
 },
 "nbformat": 4,
 "nbformat_minor": 2
}
