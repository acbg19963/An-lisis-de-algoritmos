{
 "cells": [
  {
   "cell_type": "markdown",
   "metadata": {},
   "source": [
    "# Primer punto "
   ]
  },
  {
   "cell_type": "markdown",
   "metadata": {},
   "source": [
    "Implemente un método que retorne la subsecuencia común más larga (SCL) apartir de la matriz C construida por el algoritmo de PD que calcula la longitud de la SCL.\n"
   ]
  },
  {
   "cell_type": "code",
   "execution_count": 1,
   "metadata": {
    "collapsed": true
   },
   "outputs": [],
   "source": [
    "import math\n",
    "import numpy as np\n",
    "import pylab as pl\n",
    "import random as rnd\n",
    "%matplotlib inline"
   ]
  },
  {
   "cell_type": "code",
   "execution_count": 2,
   "metadata": {
    "collapsed": true
   },
   "outputs": [],
   "source": [
    "def SCL(X , Y):\n",
    "   \n",
    "    q = len(X)\n",
    "    w = len(Y)\n",
    "    t = [[None]*(w+1) for i in xrange(q+1)]\n",
    " \n",
    "    for i in range(q+1):\n",
    "        for j in range(w+1):\n",
    "            if i == 0 or j == 0 :\n",
    "                t[i][j] = 0\n",
    "            elif X[i-1] == Y[j-1]:\n",
    "                t[i][j] = t[i-1][j-1]+1\n",
    "            else:\n",
    "                t[i][j] = max(t[i-1][j] , t[i][j-1])\n",
    "    return t[q][w]"
   ]
  },
  {
   "cell_type": "code",
   "execution_count": 5,
   "metadata": {
    "collapsed": false
   },
   "outputs": [
    {
     "name": "stdout",
     "output_type": "stream",
     "text": [
      "2\n"
     ]
    }
   ],
   "source": [
    "X = \"buenas\"\n",
    "Y = \"tardes\"\n",
    "print SCL(X, Y)"
   ]
  },
  {
   "cell_type": "markdown",
   "metadata": {},
   "source": [
    "# Segundo Punto"
   ]
  },
  {
   "cell_type": "markdown",
   "metadata": {},
   "source": [
    "Para el problema del corte de la barilla (Notebook)"
   ]
  },
  {
   "cell_type": "markdown",
   "metadata": {},
   "source": [
    "# 1. Implemente un método para determinar los cortes que se deben realizar a partir de la solución de PD que encuentra el valor de la solución óptima."
   ]
  },
  {
   "cell_type": "code",
   "execution_count": 56,
   "metadata": {
    "collapsed": true
   },
   "outputs": [],
   "source": [
    "import time\n",
    "import random as rnd"
   ]
  },
  {
   "cell_type": "code",
   "execution_count": 57,
   "metadata": {
    "collapsed": true
   },
   "outputs": [],
   "source": [
    "def cut_rodR(p, n):\n",
    "    if n==0:\n",
    "        return 0\n",
    "    q = float('-inf')\n",
    "    for i in range(n):\n",
    "        #print i\n",
    "        q = max(q, p[i] + cut_rodR(p, n-1-i))\n",
    "    return q"
   ]
  },
  {
   "cell_type": "code",
   "execution_count": 58,
   "metadata": {
    "collapsed": false
   },
   "outputs": [
    {
     "name": "stdout",
     "output_type": "stream",
     "text": [
      "22\n"
     ]
    }
   ],
   "source": [
    "p = [1,5,8,9,10,17,17,20,24,30]\n",
    "sol = cut_rodR(p,8)\n",
    "print (sol)"
   ]
  },
  {
   "cell_type": "code",
   "execution_count": 59,
   "metadata": {
    "collapsed": true
   },
   "outputs": [],
   "source": [
    "def time_analysis_cut_rodR(n):\n",
    "    results = []\n",
    "    for i in range(n):\n",
    "        t_inicial=time.clock()\n",
    "        cut_rodR(p, i)\n",
    "        t_final= time.clock()\n",
    "        results.append(t_final-t_inicial)\n",
    "    return results"
   ]
  },
  {
   "cell_type": "code",
   "execution_count": 60,
   "metadata": {
    "collapsed": false
   },
   "outputs": [
    {
     "name": "stdout",
     "output_type": "stream",
     "text": [
      "[2.2807253117207438e-06, 1.0263264130117022e-05, 7.982538818396279e-06, 1.3684352325071814e-05, 2.5087978883675532e-05, 4.618468869921344e-05, 0.00011745735605472873, 0.0001961423811280838]\n"
     ]
    }
   ],
   "source": [
    "print (time_analysis_cut_rodR(8))"
   ]
  },
  {
   "cell_type": "markdown",
   "metadata": {},
   "source": [
    "# Implementación de arriba hacia abajo con memorización "
   ]
  },
  {
   "cell_type": "code",
   "execution_count": 61,
   "metadata": {
    "collapsed": true
   },
   "outputs": [],
   "source": [
    "def memo_cut_rodTD(p, n):\n",
    "    r = [-1] * (n+1)\n",
    "    return memo_cut_rodTD_aux(p,n,r)"
   ]
  },
  {
   "cell_type": "code",
   "execution_count": 62,
   "metadata": {
    "collapsed": true
   },
   "outputs": [],
   "source": [
    "def memo_cut_rodTD_aux(p,n,r):\n",
    "    if r[n] >= 0:\n",
    "        return r[n]\n",
    "    if n == 0:\n",
    "        q = 0\n",
    "    else:\n",
    "        q = float('-inf')\n",
    "        for i in range(1,n+1):\n",
    "            q = max(q, p[i-1]+memo_cut_rodTD_aux(p,n-i,r))\n",
    "    r[n]=q\n",
    "    return q"
   ]
  },
  {
   "cell_type": "code",
   "execution_count": 63,
   "metadata": {
    "collapsed": false
   },
   "outputs": [
    {
     "name": "stdout",
     "output_type": "stream",
     "text": [
      "22\n"
     ]
    }
   ],
   "source": [
    "sol = memo_cut_rodTD(p,8)\n",
    "print (sol)"
   ]
  },
  {
   "cell_type": "code",
   "execution_count": 64,
   "metadata": {
    "collapsed": true
   },
   "outputs": [],
   "source": [
    "import time\n",
    "import random as rnd\n",
    "def time_analysis_cut_rodTD(n):\n",
    "    results = []\n",
    "    for i in range(n):\n",
    "        t_inicial=time.clock()\n",
    "        memo_cut_rodTD(p, i)\n",
    "        t_final= time.clock()\n",
    "        results.append(t_final-t_inicial)\n",
    "    return results"
   ]
  },
  {
   "cell_type": "code",
   "execution_count": 65,
   "metadata": {
    "collapsed": false
   },
   "outputs": [
    {
     "name": "stdout",
     "output_type": "stream",
     "text": [
      "[1.0833445458047208e-05, 2.3377434899884975e-05, 1.197380811390758e-05, 1.5965077409418882e-05, 2.622834176690958e-05, 3.021961106242088e-05, 3.3640699030002e-05, 3.934251253667753e-05]\n"
     ]
    }
   ],
   "source": [
    "print (time_analysis_cut_rodTD(8))"
   ]
  },
  {
   "cell_type": "markdown",
   "metadata": {},
   "source": [
    "# Implementación abajo hacia arriba con memorización"
   ]
  },
  {
   "cell_type": "code",
   "execution_count": 141,
   "metadata": {
    "collapsed": true
   },
   "outputs": [],
   "source": [
    "def memo_cut_rodBU(p,n):\n",
    "    r = [0] * (n+1)\n",
    "    r[0] = 0\n",
    "    for j in range(1,n+1):\n",
    "        q = float('-inf')\n",
    "        for i in range(1,j+1):            \n",
    "            q = max(q, p[i-1]+r[j-i])\n",
    "        r[j] = q\n",
    "    return r[n]"
   ]
  },
  {
   "cell_type": "code",
   "execution_count": 142,
   "metadata": {
    "collapsed": false
   },
   "outputs": [
    {
     "name": "stdout",
     "output_type": "stream",
     "text": [
      "22\n"
     ]
    }
   ],
   "source": [
    "sol = memo_cut_rodBU(p,8)\n",
    "print (sol)"
   ]
  },
  {
   "cell_type": "code",
   "execution_count": 143,
   "metadata": {
    "collapsed": true
   },
   "outputs": [],
   "source": [
    "import time\n",
    "import random as rnd\n",
    "def time_analysis_cut_rodBU(n):\n",
    "    results = []\n",
    "    for i in range(n):\n",
    "        t_inicial=time.clock()\n",
    "        memo_cut_rodBU(p, i)\n",
    "        t_final= time.clock()\n",
    "        results.append(t_final-t_inicial)\n",
    "    return results"
   ]
  },
  {
   "cell_type": "code",
   "execution_count": 144,
   "metadata": {
    "collapsed": false
   },
   "outputs": [
    {
     "name": "stdout",
     "output_type": "stream",
     "text": [
      "[6.271994607232045e-06, 1.140362701335107e-05, 9.122901246882975e-06, 1.140362701335107e-05, 1.82458029485133e-05, 1.9386165604373673e-05, 2.3377434899884975e-05, 2.8509066851256648e-05]\n"
     ]
    }
   ],
   "source": [
    "print (time_analysis_cut_rodBU(8))\n"
   ]
  },
  {
   "cell_type": "markdown",
   "metadata": {},
   "source": [
    "# Cortes que se deben realizar para Implementación abajo hacia arriba con memorización"
   ]
  },
  {
   "cell_type": "code",
   "execution_count": 145,
   "metadata": {
    "collapsed": false
   },
   "outputs": [],
   "source": [
    "def mostrar_secuencia(lista,n,contador):\n",
    "    aux=lista[n-1]\n",
    "    aux2=[]\n",
    "    if(0 in aux):\n",
    "        return aux;\n",
    "    else:\n",
    "        aux2.insert(contador,mostrar_secuencia(lista,int(aux[0]),contador))\n",
    "        contador=contador+1\n",
    "        aux2.insert(contador,mostrar_secuencia(lista,int(aux[1]),contador))\n",
    "        \n",
    "        posva=0\n",
    "        listaF=[]\n",
    "        for i in range(0,len(aux2)):\n",
    "            for j in range(0,2):\n",
    "                if(aux2[i][j]!=0):\n",
    "                    listaF.insert(posva,int(aux2[i][j]))\n",
    "                    posva=posva+1\n",
    "        \n",
    "    return listaF\n"
   ]
  },
  {
   "cell_type": "code",
   "execution_count": 146,
   "metadata": {
    "collapsed": true
   },
   "outputs": [],
   "source": [
    "def memo_cut_rodBU(p,n):\n",
    "    r = [0] * (n+1)\n",
    "    r[0] = 0\n",
    "    lista=[]\n",
    "    \n",
    "    for j in range(1,n+1):\n",
    "        auxiliar1=0\n",
    "        auxiliar2=0\n",
    "        aux=np.zeros(2)\n",
    "        q = float('-inf')\n",
    "        for i in range(1,j+1): \n",
    "            if(q<p[i-1]+r[j-i]):\n",
    "                auxiliar1=i\n",
    "                auxiliar2=j-i\n",
    "            \n",
    "            \n",
    "            q = max(q, p[i-1]+r[j-i])\n",
    "            \n",
    "            \n",
    "        r[j] = q\n",
    "        aux[0]=int(auxiliar1)\n",
    "        aux[1]=int(auxiliar2)\n",
    "        \n",
    "        lista.insert(j,aux)\n",
    "    aux3=mostrar_secuencia(lista,n,0);\n",
    "    print(aux3)\n",
    "    \n",
    "    return r[n]"
   ]
  },
  {
   "cell_type": "code",
   "execution_count": 147,
   "metadata": {
    "collapsed": false
   },
   "outputs": [
    {
     "name": "stdout",
     "output_type": "stream",
     "text": [
      "[2, 6]\n",
      "22\n"
     ]
    }
   ],
   "source": [
    "sol = memo_cut_rodBU(p,8)\n",
    "print (sol)"
   ]
  },
  {
   "cell_type": "markdown",
   "metadata": {},
   "source": [
    "# Análisis del tiempo"
   ]
  },
  {
   "cell_type": "code",
   "execution_count": 151,
   "metadata": {
    "collapsed": false
   },
   "outputs": [
    {
     "data": {
      "text/plain": [
       "[<matplotlib.lines.Line2D at 0x7f92cc0>]"
      ]
     },
     "execution_count": 151,
     "metadata": {},
     "output_type": "execute_result"
    },
    {
     "data": {
      "image/png": "[encoded data removed]",
      "text/plain": [
       "<matplotlib.figure.Figure at 0x80bc550>"
      ]
     },
     "metadata": {},
     "output_type": "display_data"
    }
   ],
   "source": [
    "pl.clf()\n",
    "x = np.arange(8)\n",
    "y = np.array(time_analysis_cut_rodR(8))  #arriba hacia abajo\n",
    "pl.plot(x, y, 'k.',color='blue')\n",
    "x = np.arange(8)\n",
    "y = np.array(time_analysis_cut_rodTD(8)) #abajo hacia arriba \n",
    "pl.plot(x, y, 'k.',color='red')\n"
   ]
  },
  {
   "cell_type": "markdown",
   "metadata": {},
   "source": [
    "# Tercer Punto"
   ]
  },
  {
   "cell_type": "markdown",
   "metadata": {},
   "source": [
    "Implemente, describa y analice un algoritmo de PD para calcular la distancia de edición entre dos cadenas. (Cormen, problem 15-5)"
   ]
  },
  {
   "cell_type": "code",
   "execution_count": 169,
   "metadata": {
    "collapsed": true
   },
   "outputs": [],
   "source": [
    "def minim(c,i,j,tarifa,nPuertos):\n",
    "    k=0\n",
    "    aux=j\n",
    "    for k in range(i+1,nPuertos):\n",
    "        aux=min(aux,tarifa[i,k]+c[k][j])\n",
    "    return aux\n"
   ]
  },
  {
   "cell_type": "code",
   "execution_count": 170,
   "metadata": {
    "collapsed": true
   },
   "outputs": [],
   "source": [
    "def costs(ports,price):\n",
    "    c=np.zeros((ports,ports))\n",
    "    diagonal= ports\n",
    "    for diagonal in range (1, ports-1):\n",
    "        for i in range(1,ports-diagonal):\n",
    "            num=int(i+diagonal);\n",
    "            c[i][num]= minim(c,i,i+diagonal,price,ports)\n",
    "    return c"
   ]
  },
  {
   "cell_type": "code",
   "execution_count": 171,
   "metadata": {
    "collapsed": false
   },
   "outputs": [
    {
     "name": "stdout",
     "output_type": "stream",
     "text": [
      "[[ 0  5  6  3 15]\n",
      " [ 0  0  5  6  7]\n",
      " [ 0  0  0 10 15]\n",
      " [ 0  0  0  0 12]\n",
      " [ 0  0  0  0  0]]\n",
      "[[ 0.  0.  0.  0.  0.]\n",
      " [ 0.  0.  2.  3.  4.]\n",
      " [ 0.  0.  0.  3.  4.]\n",
      " [ 0.  0.  0.  0.  4.]\n",
      " [ 0.  0.  0.  0.  0.]]\n"
     ]
    }
   ],
   "source": [
    "price= np.matrix('0 5 6 3 15;0 0 5 6 7;0 0 0 10 15;0 0 0 0 12; 0 0 0 0 0 ')\n",
    "print (price)\n",
    "c=costs(5,price)\n",
    "print (c)"
   ]
  },
  {
   "cell_type": "markdown",
   "metadata": {},
   "source": [
    "# Cuarto Punto"
   ]
  },
  {
   "cell_type": "markdown",
   "metadata": {},
   "source": [
    "En el rio atrato hay n embarcaderos, en cada uno de ellos se puede alquilar un bote para realizar un viaje rio abajo a otro embarcadero. Existe una tabla de tarifas que indica el costo del viaje del embarcadero i al j, para i, j = 1,2,...,n  (i<j), puede pasar que un viaje de i a j sea más caro que una serie de viajes sucesivos intermedios, no hay un costo asociado a cambiar de bote en algún embarcadero. El problema consiste en diseñar un algoritmo de PD que determine el costo mínimo para cada par de puntos i,j."
   ]
  },
  {
   "cell_type": "code",
   "execution_count": 172,
   "metadata": {
    "collapsed": true
   },
   "outputs": [],
   "source": [
    "R = 3\n",
    "C = 3\n",
    " \n",
    "def minCost(cost, m, n):\n",
    " \n",
    "    tc = [[0 for x in range(C)] for x in range(R)]\n",
    "    tc[0][0] = cost[0][0]\n",
    " \n",
    "    for i in range(1, m+1):\n",
    "        tc[i][0] = tc[i-1][0] + cost[i][0]\n",
    "    y\n",
    "    for j in range(1, n+1):\n",
    "        tc[0][j] = tc[0][j-1] + cost[0][j]\n",
    "  \n",
    "    for i in range(1, m+1):\n",
    "        for j in range(1, n+1):\n",
    "            tc[i][j] = min(tc[i-1][j-1], tc[i-1][j], tc[i][j-1]) + cost[i][j]\n",
    " \n",
    "    return tc[m][n]\n",
    " "
   ]
  },
  {
   "cell_type": "code",
   "execution_count": 173,
   "metadata": {
    "collapsed": false
   },
   "outputs": [
    {
     "name": "stdout",
     "output_type": "stream",
     "text": [
      "8\n"
     ]
    }
   ],
   "source": [
    "cost = [[1, 2, 3],\n",
    "        [4, 8, 2],\n",
    "        [1, 5, 3]]\n",
    "print(minCost(cost, 2, 2))"
   ]
  },
  {
   "cell_type": "code",
   "execution_count": null,
   "metadata": {
    "collapsed": true
   },
   "outputs": [],
   "source": []
  }
 ],
 "metadata": {
  "kernelspec": {
   "display_name": "Python 2",
   "language": "python",
   "name": "python2"
  },
  "language_info": {
   "codemirror_mode": {
    "name": "ipython",
    "version": 2
   },
   "file_extension": ".py",
   "mimetype": "text/x-python",
   "name": "python",
   "nbconvert_exporter": "python",
   "pygments_lexer": "ipython2",
   "version": "2.7.13"
  }
 },
 "nbformat": 4,
 "nbformat_minor": 2
}
