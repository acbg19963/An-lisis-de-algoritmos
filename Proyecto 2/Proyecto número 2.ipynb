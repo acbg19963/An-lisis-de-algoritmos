{
 "cells": [
  {
   "cell_type": "markdown",
   "metadata": {},
   "source": [
    "# Segunda entrega del proyecto"
   ]
  },
  {
   "cell_type": "markdown",
   "metadata": {},
   "source": [
    "Presentado por: Andrea Bayona y David Pedraza"
   ]
  },
  {
   "cell_type": "markdown",
   "metadata": {},
   "source": [
    "# Segundo  punto"
   ]
  },
  {
   "cell_type": "markdown",
   "metadata": {},
   "source": [
    "(MST). Dado un grafo G = (V, E) con n vertices y m aristas. (El grafo podría representar una red telefónica). Cada arista es coloreada azul o roja. Tambien esta dado un parámetro k como parte de la entrada. Proponga un algoritmo que encuentre un árbol de expansión sobre G con exactamente k aristas azules, y exactamente n-k-1 aristas rojas. Determine el tiempo de ejecución del algoritmo y muestre que es correcto."
   ]
  },
  {
   "cell_type": "code",
   "execution_count": 66,
   "metadata": {
    "collapsed": false
   },
   "outputs": [],
   "source": [
    "parent = dict()\n",
    "rank = dict()\n",
    "\n",
    "def invariante(edges, i):\n",
    "    \n",
    "    aux=[]\n",
    "    \n",
    "    for edge in edges:\n",
    "        \n",
    "        peso, color, v1, v2 = edge\n",
    "        \n",
    "        if not(v1 in aux):\n",
    "            \n",
    "            aux.append(v1)\n",
    "            \n",
    "        if not(v2 in aux):\n",
    "            \n",
    "            aux.append(v2)\n",
    "            \n",
    "    if(len(aux)==(i+1)):\n",
    "        \n",
    "        return True\n",
    "    \n",
    "    else:\n",
    "        \n",
    "        return False\n",
    "    "
   ]
  },
  {
   "cell_type": "code",
   "execution_count": 67,
   "metadata": {
    "collapsed": true
   },
   "outputs": [],
   "source": [
    "def verticesU(v1, v2):\n",
    "    var1 = find(v1)\n",
    "    var2 = find(v2)\n",
    "    if var1 != var2:\n",
    "        if rank[var1] > rank[var2]:\n",
    "            parent[var2] = var1\n",
    "        else:\n",
    "            parent[var1] = var2\n",
    "            if rank[var1] == rank[var2]: rank[var2] += 1\n"
   ]
  },
  {
   "cell_type": "code",
   "execution_count": 68,
   "metadata": {
    "collapsed": true
   },
   "outputs": [],
   "source": [
    "def periodo(g, aux, c, rec):\n",
    "    if aux in rec:\n",
    "        c[0]=True\n",
    "        return\n",
    "    rec.append(aux)\n",
    "    for edge in g:\n",
    "        peso, color, v1, v2 = edge\n",
    "        if v1==aux:\n",
    "            periodo(g, v2, c, rec)\n"
   ]
  },
  {
   "cell_type": "code",
   "execution_count": 69,
   "metadata": {
    "collapsed": false
   },
   "outputs": [],
   "source": [
    "def k_rb(graph, k):\n",
    "    x=k\n",
    "    y=0\n",
    "    for vertice in graph['vertices']:\n",
    "        parent[vertice] = vertice\n",
    "        rank[vertice] = 0\n",
    "\n",
    "    st = set()\n",
    "    edges = list(graph['edges'])\n",
    "    edges.sort()\n",
    "    try: \n",
    "        for edge in edges:\n",
    "            peso, color, v1, v2 = edge\n",
    "            if find(v1) != find(v2) and ((color==\"B\" and k>0) or color==\"R\"):\n",
    "                verticesU(v1, v2)\n",
    "                st.add(edge)\n",
    "                c=[]\n",
    "                c.append(False)\n",
    "                periodo(st,v1,c,[])\n",
    "                assert not c[0]\n",
    "               \n",
    "                if color==\"B\":                    \n",
    "                    k=k-1\n",
    "                    y=y+1\n",
    "       \n",
    "        assert invariante(edges, len(st))\n",
    "        we=0\n",
    "        for vert in st:\n",
    "            peso, color, v1, v2 = vert\n",
    "            we=int(peso)+we\n",
    "        return we, st\n",
    "    except  AssertionError:\n",
    "       \n",
    "        return set()\n"
   ]
  },
  {
   "cell_type": "code",
   "execution_count": 70,
   "metadata": {
    "collapsed": false
   },
   "outputs": [],
   "source": [
    "def find(vertice):\n",
    "    if parent[vertice] != vertice:\n",
    "        parent[vertice] = find(parent[vertice])\n",
    "    return parent[vertice]"
   ]
  },
  {
   "cell_type": "code",
   "execution_count": 71,
   "metadata": {
    "collapsed": true
   },
   "outputs": [],
   "source": [
    "def kruskal_rb():  \n",
    "    \n",
    "    inf = open(\"input_n8_b5_r2\")\n",
    "    \n",
    "    p=[]\n",
    "    \n",
    "    a=0\n",
    "    \n",
    "    linea=\"\"\n",
    "    \n",
    "    tam=\"\"\n",
    "    \n",
    "    k=\"\"\n",
    "    \n",
    "    \n",
    "    \n",
    "    for l in inf:\n",
    "            if a==0:\n",
    "                tam=l \n",
    "            elif a==1:\n",
    "                k=l\n",
    "            else:\n",
    "                linea=l\n",
    "                p.append(linea)        \n",
    "            a=a+1\n",
    "            \n",
    "    inf.close()\n",
    "    ver=[]\n",
    "    cont=0\n",
    "    for i in range (int(tam)):\n",
    "        ver.append(str(cont))\n",
    "        cont=cont+1\n",
    "   \n",
    "    ed=set()\n",
    "    val=[]\n",
    "    i=0\n",
    "    j=0\n",
    "    for l in p:\n",
    "        val= l.split(\"\\n\")[0].split(\"\\t\")\n",
    "        j=0\n",
    "        for x in val:\n",
    "            if x !='Inf' and x !='':\n",
    "                ar= x.split(\"/\")\n",
    "                ed.add((ar[0],ar[1],str(i),str(j+i)))\n",
    "            j=j+1\n",
    "        i=i+1\n",
    "\n",
    "    graph = {\n",
    "            'vertices': ver,\n",
    "            'edges': ed\n",
    "            }\n",
    "\n",
    "    peso, result= k_rb(graph, int(k))\n",
    "    blue=[]\n",
    "    red=[]\n",
    "    for res in result:\n",
    "        pes, color, v1, v2 = res\n",
    "        if color==\"B\":\n",
    "            blue.append(\"(\"+v1+\",\"+v2+\")\")\n",
    "        else:\n",
    "            red.append(\"(\"+v1+\",\"+v2+\")\")\n",
    "   \n",
    "    print peso+1\n",
    "    print red\n",
    "    print blue\n",
    "  "
   ]
  },
  {
   "cell_type": "code",
   "execution_count": 72,
   "metadata": {
    "collapsed": false
   },
   "outputs": [
    {
     "name": "stdout",
     "output_type": "stream",
     "text": [
      "22\n",
      "['(1,5)', '(1,2)', '(0,2)']\n",
      "['(6,7)', '(0,4)', '(2,6)', '(1,3)']\n"
     ]
    }
   ],
   "source": [
    "kruskal_rb()"
   ]
  },
  {
   "cell_type": "markdown",
   "metadata": {
    "collapsed": true
   },
   "source": [
    "# Tercer punto "
   ]
  },
  {
   "cell_type": "markdown",
   "metadata": {
    "collapsed": false
   },
   "source": [
    "(Cliques en Grafos). La distancia de Hamming dist(u,v) entre dos vectores binarios v = (v_1 , . . . , v_n ) and w = (w_1 , . . . , w_n ) es el número de índices k tal que v_k \\neq w_k. Una pregunta fundamental en la teoría de la codificación es determinar el número \n",
    "A(n, d) = max |{S ⊂ {0, 1} n | dist(u, v) ≥ d for all distinct u, v ∈ S}|, \n",
    "el máximo número de vectores binarios de longitud n que uno puede encontrar tal que dos vectores diferentes tienen una distancia de Hamming ≥ d.  Por ejemplo, A(5, 4) = 2. \n",
    "El grafo de Hamming H(n, d) = (V, E) es el gráfo con 2^n vertices V dados por cadenas binarias de longitud n. Nosotros tenemos (u, v) ∈ E si y solo si dist(u, v) ≥ d. El número A(n,d) coincide con el tamaño de un clique máximo en H(n,d). Encuentre un algoritmo \"eficiente\"  para calcular el clique máximo en el grafo de Hamming (calcular el clique máximo es un problema NP-difícil)."
   ]
  },
  {
   "cell_type": "code",
   "execution_count": 24,
   "metadata": {
    "collapsed": false
   },
   "outputs": [
    {
     "name": "stdout",
     "output_type": "stream",
     "text": [
      "\n",
      "[['0110', '0111', '0000', '0001', '0011', '0010', '0101', '0100', '1111', '1110', '1100', '1000', '1010', '1011', '1001', '1101']]\n",
      "16\n"
     ]
    }
   ],
   "source": [
    "#From: https://gist.github.com/mariaperez/1896793\n",
    "import itertools\n",
    "import logging\n",
    "\n",
    "def hamdist(str1, str2):        \n",
    "        diffs = 0\n",
    "        for ch1, ch2 in zip(str1, str2):\n",
    "                if ch1 != ch2:\n",
    "                        diffs += 1\n",
    "        return diffs\n",
    "\n",
    "def hamming_binary(chromosome_len, d):\n",
    "    space = networkx.Graph()\n",
    "\n",
    "    # create all nodes\n",
    "    l = [\"01\"] * chromosome_len \n",
    "    all_nodes = itertools.product(*l)\n",
    "    all_nodes = [''.join(x) for x in all_nodes]\n",
    "    space.add_nodes_from(all_nodes) \n",
    "    \n",
    "    for node in space.nodes():\n",
    "        \n",
    "        for v in space.nodes():\n",
    "            if(v != node):\n",
    "                dist = hamdist(node, v)\n",
    "                if(dist >= d):\n",
    "                    space.add_edge(node,v)\n",
    "    \n",
    "    return space\n",
    "\n",
    "\n",
    "def mutate_node(node, n):\n",
    "    if node[n] == '0':\n",
    "        newbase = '1'\n",
    "    else:\n",
    "        newbase = '0'\n",
    "    new_node = node[0:n] + newbase + node[n+1:]\n",
    "    return new_node\n",
    "\n",
    "\n",
    "space = hamming_binary(4,1)\n",
    "print space\n",
    "\n",
    "cliques =list(networkx.find_cliques(space) )\n",
    "num_cliques =  networkx.graph_clique_number(space)\n",
    "\n",
    "print (cliques)\n",
    "print networkx.graph_clique_number(space)"
   ]
  },
  {
   "cell_type": "code",
   "execution_count": null,
   "metadata": {
    "collapsed": true
   },
   "outputs": [],
   "source": []
  }
 ],
 "metadata": {
  "kernelspec": {
   "display_name": "Python 2",
   "language": "python",
   "name": "python2"
  },
  "language_info": {
   "codemirror_mode": {
    "name": "ipython",
    "version": 2
   },
   "file_extension": ".py",
   "mimetype": "text/x-python",
   "name": "python",
   "nbconvert_exporter": "python",
   "pygments_lexer": "ipython2",
   "version": "2.7.13"
  }
 },
 "nbformat": 4,
 "nbformat_minor": 2
}
