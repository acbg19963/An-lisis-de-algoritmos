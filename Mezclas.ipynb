{
 "cells": [
  {
   "cell_type": "code",
   "execution_count": 7,
   "metadata": {
    "collapsed": true
   },
   "outputs": [],
   "source": [
    "import math\n",
    "import numpy as np\n",
    "import pylab as pl\n",
    "%matplotlib inline"
   ]
  },
  {
   "cell_type": "code",
   "execution_count": 12,
   "metadata": {
    "collapsed": false
   },
   "outputs": [],
   "source": [
    "def merge(a,b):\n",
    "    c = []\n",
    "    while (len(a) != 0 and len(b) != 0):\n",
    "        \n",
    "        if a[0] < b[0]:\n",
    "            \n",
    "            c.append(a[0])\n",
    "            a.remove(a[0])\n",
    "        else:\n",
    "            c.append(b[0])\n",
    "            b.remove(b[0])\n",
    "    if len(a) == 0:\n",
    "        c += b\n",
    "    else:\n",
    "        c += a\n",
    "    return c"
   ]
  },
  {
   "cell_type": "code",
   "execution_count": 13,
   "metadata": {
    "collapsed": true
   },
   "outputs": [],
   "source": [
    "def mergesort(x):\n",
    "  \n",
    "    if len(x) == 0 or len(x) == 1:\n",
    "        return x\n",
    "    else:\n",
    "        middle = len(x)/2\n",
    "        a = mergesort(x[:middle])\n",
    "        b = mergesort(x[middle:])\n",
    "        return merge(a,b)"
   ]
  },
  {
   "cell_type": "code",
   "execution_count": 14,
   "metadata": {
    "collapsed": false
   },
   "outputs": [
    {
     "name": "stdout",
     "output_type": "stream",
     "text": [
      "[1, 2, 3, 4, 5, 6, 7, 8]\n"
     ]
    }
   ],
   "source": [
    "A=[5, 4, 6, 3, 7, 2, 8, 1]\n",
    "A=mergesort(A)\n",
    "print A"
   ]
  },
  {
   "cell_type": "markdown",
   "metadata": {},
   "source": [
    "<h4> Invariante</h4>"
   ]
  },
  {
   "cell_type": "code",
   "execution_count": 15,
   "metadata": {
    "collapsed": true
   },
   "outputs": [],
   "source": [
    "def invariante(A, copia):\n",
    "    a = list(A)\n",
    "    b = list(copia)\n",
    "    b.sort()\n",
    "    print \"Checking \", A,\" -> \", copia\n",
    "    return a == b"
   ]
  },
  {
   "cell_type": "code",
   "execution_count": 16,
   "metadata": {
    "collapsed": true
   },
   "outputs": [],
   "source": [
    "def inv_mergesort(A):\n",
    "    lista = list(A)\n",
    "    if len(A) < 2:\n",
    "        return A\n",
    "\n",
    "    edge = len(A)/2\n",
    "    der = inv_mergesort(A[int(edge):])\n",
    "    izq = inv_mergesort(A[:int(edge)])\n",
    "    \n",
    "\n",
    "    return inv_merge(izq, der, lista)\n",
    "\n",
    "def inv_merge(izq, der, lista):\n",
    "    i = 0\n",
    "    j = 0\n",
    "    A = []\n",
    "    \n",
    "    while (i < len(izq) and j < len(der)):\n",
    "        if(izq[i] < der[j]):\n",
    "            A.append(izq[i])\n",
    "            i += 1\n",
    "        else:\n",
    "            A.append(der[j])\n",
    "            j += 1\n",
    "            \n",
    "    A += izq[i:]\n",
    "    A += der[j:]\n",
    "    \n",
    "    print invariante(A, lista)\n",
    "\n",
    "    return A"
   ]
  },
  {
   "cell_type": "code",
   "execution_count": 17,
   "metadata": {
    "collapsed": false
   },
   "outputs": [
    {
     "name": "stdout",
     "output_type": "stream",
     "text": [
      "Checking  [1, 9]  ->  [1, 9]\n",
      "True\n",
      "Checking  [1, 8, 9]  ->  [8, 1, 9]\n",
      "True\n",
      "Checking  [2, 7]  ->  [7, 2]\n",
      "True\n",
      "Checking  [1, 2, 7, 8, 9]  ->  [7, 2, 8, 1, 9]\n",
      "True\n",
      "Checking  [3, 6]  ->  [6, 3]\n",
      "True\n",
      "Checking  [4, 5]  ->  [5, 4]\n",
      "True\n",
      "Checking  [3, 4, 5, 6]  ->  [5, 4, 6, 3]\n",
      "True\n",
      "Checking  [1, 2, 3, 4, 5, 6, 7, 8, 9]  ->  [5, 4, 6, 3, 7, 2, 8, 1, 9]\n",
      "True\n",
      "[1, 2, 3, 4, 5, 6, 7, 8, 9]\n"
     ]
    }
   ],
   "source": [
    "A = [5, 4, 6, 3, 7, 2, 8, 1, 9]\n",
    "A = inv_mergesort(A)\n",
    "print A"
   ]
  },
  {
   "cell_type": "code",
   "execution_count": 21,
   "metadata": {
    "collapsed": true
   },
   "outputs": [],
   "source": [
    "class Counter:\n",
    "    '''\n",
    "    Class Counter\n",
    "    Implements a step counter, which is used to compute the number of basic operations performed in\n",
    "    a particular call to a function.\n",
    "    '''\n",
    "    def __init__(self):\n",
    "        self.steps = 0\n",
    "\n",
    "    def reset(self):\n",
    "        self.steps = 0\n",
    "\n",
    "    def count(self):\n",
    "        self.steps += 1\n",
    "\n",
    "    def print_steps(self):\n",
    "        print \"Number of steps =\", self.steps\n",
    "        \n",
    "def acct_mergesort(x, acct):\n",
    "  \n",
    "    if len(x) == 0 or len(x) == 1:\n",
    "        acct.count()\n",
    "        return x\n",
    "        acct.count()\n",
    "    else:\n",
    "        acct.count()\n",
    "        middle = len(x)/2; acct.count()\n",
    "        a = mergesort(x[:middle]); acct.count()\n",
    "        b = mergesort(x[middle:]); acct.count()\n",
    "        return acct_merge(a,b, acct); acct.count()\n",
    "    \n",
    "def acct_merge(a,b, acct):\n",
    "    c = []\n",
    "    acct.count()\n",
    "    while (len(a) != 0 and len(b) != 0):\n",
    "        acct.count()\n",
    "        if a[0] < b[0]:\n",
    "            acct.count()\n",
    "            c.append(a[0]);acct.count()\n",
    "            a.remove(a[0]);acct.count()\n",
    "        else:\n",
    "            c.append(b[0]);acct.count()\n",
    "            b.remove(b[0]);acct.count()\n",
    "    if len(a) == 0:\n",
    "        acct.count()\n",
    "        c += b;acct.count()\n",
    "    else:\n",
    "        c += a;acct.count()\n",
    "    return c;acct.count()"
   ]
  },
  {
   "cell_type": "markdown",
   "metadata": {},
   "source": [
    "<h4> Análisis Experimental</h4>"
   ]
  },
  {
   "cell_type": "code",
   "execution_count": 24,
   "metadata": {
    "collapsed": true
   },
   "outputs": [],
   "source": [
    "import random as rnd\n",
    "\n",
    "def exper_analysis(n):\n",
    "    results = []\n",
    "    acct = Counter()\n",
    "    for i in range(n):\n",
    "        l = range(i)\n",
    "        rnd.shuffle(l)\n",
    "        acct.reset()\n",
    "        acct_mergesort(l, acct)\n",
    "        results.append(acct.steps)\n",
    "    return results"
   ]
  },
  {
   "cell_type": "code",
   "execution_count": 25,
   "metadata": {
    "collapsed": true
   },
   "outputs": [],
   "source": [
    "import time\n",
    "\n",
    "def time_analysis(n):\n",
    "    results = []\n",
    "    acct = Counter()\n",
    "    for i in range(n):\n",
    "        l = range(i)\n",
    "        rnd.shuffle(l)\n",
    "        tic = time.clock()#get start time\n",
    "        acct_mergesort(l, acct)\n",
    "        toc = time.clock()#get final time\n",
    "        results.append((toc-tic)*1000000)\n",
    "    return results"
   ]
  },
  {
   "cell_type": "code",
   "execution_count": 27,
   "metadata": {
    "collapsed": true
   },
   "outputs": [],
   "source": [
    "import random as ran\n",
    "\n",
    "def operation_analisis(n):\n",
    "    results=[]\n",
    "    for i in range(n):\n",
    "        if(i==0):\n",
    "            a=0\n",
    "        else:\n",
    "            \n",
    "            a = i*np.log2(i)\n",
    "        results.append(a)\n",
    "    \n",
    "    return results"
   ]
  },
  {
   "cell_type": "code",
   "execution_count": 28,
   "metadata": {
    "collapsed": false
   },
   "outputs": [
    {
     "data": {
      "text/plain": [
       "[<matplotlib.lines.Line2D at 0x7d2ca20>]"
      ]
     },
     "execution_count": 28,
     "metadata": {},
     "output_type": "execute_result"
    },
    {
     "data": {
      "image/png": "[encoded data removed]",
      "text/plain": [
       "<matplotlib.figure.Figure at 0x7c95f60>"
      ]
     },
     "metadata": {},
     "output_type": "display_data"
    }
   ],
   "source": [
    "pl.clf()\n",
    "x = np.arange(100)\n",
    "y = np.array(exper_analysis(100))\n",
    "pl.plot(x, y, 'k.')\n",
    "y = np.array(time_analysis(100))\n",
    "pl.plot(x, y, 'k.', color='b')\n",
    "y = np.array(operation_analisis(100))\n",
    "pl.plot(x, y, 'k.', color='r')"
   ]
  },
  {
   "cell_type": "code",
   "execution_count": null,
   "metadata": {
    "collapsed": true
   },
   "outputs": [],
   "source": []
  }
 ],
 "metadata": {
  "kernelspec": {
   "display_name": "Python [default]",
   "language": "python",
   "name": "python2"
  },
  "language_info": {
   "codemirror_mode": {
    "name": "ipython",
    "version": 2
   },
   "file_extension": ".py",
   "mimetype": "text/x-python",
   "name": "python",
   "nbconvert_exporter": "python",
   "pygments_lexer": "ipython2",
   "version": "2.7.12"
  }
 },
 "nbformat": 4,
 "nbformat_minor": 1
}
